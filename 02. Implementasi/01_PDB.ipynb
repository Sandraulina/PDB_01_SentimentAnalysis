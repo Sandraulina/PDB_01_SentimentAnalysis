{
  "cells": [
    {
      "cell_type": "code",
      "execution_count": null,
      "metadata": {
        "id": "o5dwJbQ1OZu1"
      },
      "outputs": [],
      "source": [
        "import tweepy\n",
        "from tweepy import Stream\n",
        "from tweepy.streaming import StreamListener\n",
        "from tweepy import OAuthHandler\n",
        "import socket\n",
        "import json"
      ]
    },
    {
      "cell_type": "code",
      "execution_count": null,
      "metadata": {
        "id": "AqRx7BYcO6Ne"
      },
      "outputs": [],
      "source": [
        "consumer_key='DgAMexqyHxuUfQOOcAMk2i5cJ'\n",
        "consumer_secret='471aOYht2lIPvyXXVDYF3gdPacGuD1TYf5t9KboztTy5NjEdTM'\n",
        "access_token ='1521023485287362560-l8LK75rEK9s70UCoTI4DXN7asAwpGA'\n",
        "access_secret='7L6hHM69d8PmllcuVG1kFMQCLnny38WC3RpjWf4nR1nh5'"
      ]
    },
    {
      "cell_type": "code",
      "execution_count": null,
      "metadata": {
        "id": "G52_GoTrRYdx"
      },
      "outputs": [],
      "source": [
        "class TweetsListener(tweepy.Stream):\n",
        "  # tweet object listens for the tweets\n",
        "  def __init__(self, csocket):\n",
        "    self.client_socket = csocket\n",
        "  def on_data(self, data):\n",
        "    try:  \n",
        "      msg = json.loads( data )\n",
        "      print(\"new message\")\n",
        "      # if tweet is longer than 140 characters\n",
        "      if \"extended_tweet\" in msg:\n",
        "        # add at the end of each tweet \"t_end\" \n",
        "        self.client_socket\\\n",
        "            .send(str(msg['extended_tweet']['full_text']+\"t_end\")\\\n",
        "            .encode('utf-8'))         \n",
        "        print(msg['extended_tweet']['full_text'])\n",
        "      else:\n",
        "        # add at the end of each tweet \"t_end\" \n",
        "        self.client_socket\\\n",
        "            .send(str(msg['text']+\"t_end\")\\\n",
        "            .encode('utf-8'))\n",
        "        print(msg['text'])\n",
        "      return True\n",
        "    except BaseException as e:\n",
        "        print(\"Error on_data: %s\" % str(e))\n",
        "    return True\n",
        "  def on_error(self, status):\n",
        "    print(status)\n",
        "    return True"
      ]
    },
    {
      "cell_type": "code",
      "execution_count": null,
      "metadata": {
        "id": "4wbnbk03Rc61"
      },
      "outputs": [],
      "source": [
        "def sendData(c_socket, keyword):\n",
        "  print('start sending data from Twitter to socket')\n",
        "  # authentication based on the credentials\n",
        "  auth = OAuthHandler(consumer_key, consumer_secret)\n",
        "  api= auth.set_access_token(access_token, access_secret)\n",
        "  # start sending data from the Streaming API \n",
        "  twitter_stream = Stream(api, TweetsListener(c_socket))\n",
        "  twitter_stream.filter(track = keyword, languages=[\"id\"])"
      ]
    },
    {
      "cell_type": "code",
      "execution_count": null,
      "metadata": {
        "colab": {
          "background_save": true,
          "base_uri": "https://localhost:8080/"
        },
        "id": "vmyomrgYRhRD",
        "outputId": "d5326b36-68c8-4fd0-ced4-44de9de88ceb"
      },
      "outputs": [
        {
          "name": "stdout",
          "output_type": "stream",
          "text": [
            "socket is ready\n",
            "socket is listening\n"
          ]
        }
      ],
      "source": [
        "if __name__ == \"__main__\":\n",
        "    # server (local machine) creates listening socket\n",
        "    s = socket.socket()\n",
        "    host = \"localhost\"    \n",
        "    port = 5555\n",
        "    s.bind((host, port))\n",
        "    print('socket is ready')\n",
        "    # server (local machine) listens for connections\n",
        "    s.listen(4)\n",
        "    print('socket is listening')\n",
        "    # return the socket and the address on the other side of the connection (client side)\n",
        "    c_socket, addr = s.accept()\n",
        "    print(\"Received request from: \" + str(addr))\n",
        "    # select here the keyword for the tweet data\n",
        "    sendData(c_socket, keyword = ['pemilu2024'])"
      ]
    }
  ],
  "metadata": {
    "colab": {
      "collapsed_sections": [],
      "name": "01_PDB",
      "provenance": []
    },
    "kernelspec": {
      "display_name": "Python 3",
      "name": "python3"
    },
    "language_info": {
      "name": "python"
    }
  },
  "nbformat": 4,
  "nbformat_minor": 0
}